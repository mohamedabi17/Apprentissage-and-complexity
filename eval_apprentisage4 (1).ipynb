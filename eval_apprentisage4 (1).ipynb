{
 "cells": [
  {
   "cell_type": "code",
   "execution_count": 180,
   "id": "d6d0ce77-7b42-4d01-9e7f-c80b901f8e82",
   "metadata": {},
   "outputs": [],
   "source": [
    "import pandas as pd\n",
    "import numpy as np\n",
    "from sklearn.linear_model import LinearRegression\n",
    "from sklearn.model_selection import cross_val_score\n",
    "from sklearn.feature_selection import RFE\n",
    "from sklearn.model_selection import train_test_split\n",
    "from sklearn.metrics import mean_squared_error, r2_score"
   ]
  },
  {
   "cell_type": "code",
   "execution_count": 181,
   "id": "20b8f02c-190e-4474-acbc-3225c64f0784",
   "metadata": {
    "tags": []
   },
   "outputs": [
    {
     "name": "stdout",
     "output_type": "stream",
     "text": [
      "   Cours suivis  Note moyenne des devoirs  Note à l'examen  Heure d'étude\n",
      "0             5                        85               90             10\n",
      "1             3                        75               85              5\n",
      "2             4                        90               88              8\n",
      "3             6                        80               92             12\n",
      "4             2                        70               80             20\n"
     ]
    }
   ],
   "source": [
    "# Charger les données\n",
    "data = {\n",
    "    'Cours suivis': [5, 3, 4, 6, 2],\n",
    "    'Note moyenne des devoirs': [85, 75, 90, 80, 70],\n",
    "    'Note à l\\'examen': [90, 85, 88, 92, 80],\n",
    "    'Heure d\\'étude': [10, 5, 8, 12, 20]\n",
    "}\n",
    "df = pd.DataFrame(data)\n",
    "print(df)"
   ]
  },
  {
   "cell_type": "code",
   "execution_count": 182,
   "id": "23ba4492-5fe8-48dd-bf80-21e2dde97b09",
   "metadata": {
    "tags": []
   },
   "outputs": [
    {
     "name": "stdout",
     "output_type": "stream",
     "text": [
      "   Cours suivis  Note moyenne des devoirs  Heure d'étude\n",
      "0             5                        85             10\n",
      "1             3                        75              5\n",
      "2             4                        90              8\n",
      "3             6                        80             12\n",
      "4             2                        70             20\n",
      "0    90\n",
      "1    85\n",
      "2    88\n",
      "3    92\n",
      "4    80\n",
      "Name: Note à l'examen, dtype: int64\n"
     ]
    }
   ],
   "source": [
    "X = df.drop('Note à l\\'examen', axis=1)\n",
    "y = df['Note à l\\'examen']\n",
    "print(X)\n",
    "print(y)"
   ]
  },
  {
   "cell_type": "code",
   "execution_count": 183,
   "id": "a1a2031f-5002-406e-ba6a-0f10fb915995",
   "metadata": {
    "tags": []
   },
   "outputs": [],
   "source": [
    "\n",
    "num_features_to_select = 2\n",
    "selected_features=[]"
   ]
  },
  {
   "cell_type": "code",
   "execution_count": 184,
   "id": "43750288-e09e-4c58-82de-0733dcb00f89",
   "metadata": {
    "tags": []
   },
   "outputs": [
    {
     "name": "stdout",
     "output_type": "stream",
     "text": [
      "\n",
      "Iteration 1 - Coefficients:\n",
      "\n",
      "theta 0    1.230765\n",
      "1    0.949169\n",
      "2    0.531513\n",
      "dtype: float64 - :\n",
      "Worst Feature Index: 2\n",
      "Worst Feature Name: Heure d'étude\n",
      "Removing feature with the min coefficient: Heure d'étude\n",
      "\n",
      "Iteration 2 - Coefficients:\n",
      "\n",
      "theta 0    0.631515\n",
      "1    1.050407\n",
      "dtype: float64 - :\n",
      "Worst Feature Index: 0\n",
      "Worst Feature Name: Cours suivis\n",
      "Removing feature with the min coefficient: Cours suivis\n",
      "\n",
      "Variables sélectionnées:\n",
      "[\"Heure d'étude\", 'Cours suivis']\n"
     ]
    }
   ],
   "source": [
    "for itt in range(num_features_to_select):\n",
    "    theta = np.linalg.inv(X.T @ X) @ X.T @ y\n",
    "    \n",
    "    print(f\"\\nIteration {itt + 1} - Coefficients:\")\n",
    "    print(f\"\\ntheta {theta} - :\")\n",
    "\n",
    "    worst_feature_index = np.argmin(np.abs(theta))\n",
    "    worst_feature = X.columns[worst_feature_index]\n",
    "    \n",
    "\n",
    "    print(f\"Worst Feature Index: {worst_feature_index}\")\n",
    "    print(f\"Worst Feature Name: {worst_feature}\")\n",
    "\n",
    "\n",
    "    print(f\"Removing feature with the min coefficient: {worst_feature}\")\n",
    "    X = X.drop(columns=[worst_feature])\n",
    "   \n",
    "    selected_features.append(worst_feature)\n",
    "\n",
    "print(\"\\nVariables sélectionnées:\")\n",
    "print(selected_features)"
   ]
  },
  {
   "cell_type": "code",
   "execution_count": 179,
   "id": "b4befa67-5e9a-44b8-ad23-03d86669655c",
   "metadata": {
    "tags": []
   },
   "outputs": [
    {
     "name": "stdout",
     "output_type": "stream",
     "text": [
      "\n",
      "Mean Squared Error (MSE): 1.5625\n",
      "R-squared (R2): nan\n",
      "\n",
      "Coefficients du modèle:\n",
      "Heure d'étude: -0.2500000000000003\n",
      "Cours suivis: 2.5000000000000004\n"
     ]
    },
    {
     "name": "stderr",
     "output_type": "stream",
     "text": [
      "C:\\Users\\mohamed abi\\anaconda3\\Lib\\site-packages\\sklearn\\metrics\\_regression.py:996: UndefinedMetricWarning: R^2 score is not well-defined with less than two samples.\n",
      "  warnings.warn(msg, UndefinedMetricWarning)\n"
     ]
    }
   ],
   "source": [
    "\n",
    "X_selected = df[selected_features]\n",
    "\n",
    "X_train, X_test, y_train, y_test = train_test_split(X_selected, y, test_size=0.2, random_state=42)\n",
    "\n",
    "model = LinearRegression()\n",
    "model.fit(X_train, y_train)\n",
    "\n",
    "y_pred = model.predict(X_test)\n",
    "\n",
    "mse = mean_squared_error(y_test, y_pred)\n",
    "r2 = r2_score(y_test, y_pred)\n",
    "\n",
    "print(\"\\nMean Squared Error (MSE):\", mse)\n",
    "print(\"R-squared (R2):\", r2)\n",
    "\n",
    "print(\"\\nCoefficients du modèle:\")\n",
    "for feature, coef in zip(X_selected.columns, model.coef_):\n",
    "    print(f\"{feature}: {coef}\")"
   ]
  },
  {
   "cell_type": "code",
   "execution_count": null,
   "id": "1387f121-1909-41f4-a836-7eaf82a15557",
   "metadata": {},
   "outputs": [],
   "source": []
  },
  {
   "cell_type": "code",
   "execution_count": null,
   "id": "638ec037-8c41-4e96-baf9-d789e3a2364a",
   "metadata": {},
   "outputs": [],
   "source": []
  }
 ],
 "metadata": {
  "kernelspec": {
   "display_name": "Python 3 (ipykernel)",
   "language": "python",
   "name": "python3"
  },
  "language_info": {
   "codemirror_mode": {
    "name": "ipython",
    "version": 3
   },
   "file_extension": ".py",
   "mimetype": "text/x-python",
   "name": "python",
   "nbconvert_exporter": "python",
   "pygments_lexer": "ipython3",
   "version": "3.11.5"
  }
 },
 "nbformat": 4,
 "nbformat_minor": 5
}
